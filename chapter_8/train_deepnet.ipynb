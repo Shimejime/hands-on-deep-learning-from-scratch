{
 "cells": [
  {
   "cell_type": "code",
   "execution_count": 1,
   "metadata": {},
   "outputs": [],
   "source": [
    "import os\n",
    "import sys\n",
    "sys.path.append(os.pardir)\n",
    "import numpy as np\n",
    "import matplotlib.pyplot as plt\n",
    "from dataset.mnist import load_mnist\n",
    "from common.trainer import Trainer\n",
    "%run deep_convnet.ipynb\n",
    "# from deep_convnet import DeepConvNet"
   ]
  },
  {
   "cell_type": "code",
   "execution_count": 2,
   "metadata": {},
   "outputs": [],
   "source": [
    "(x_train, t_train), (x_test, t_test) = load_mnist(flatten=False)\n",
    "\n",
    "train_num = 12000\n",
    "test_num = 2000\n",
    "x_train = x_train[:train_num]\n",
    "t_train = t_train[:train_num]\n",
    "x_test = x_test[:test_num]\n",
    "t_test = t_test[:test_num]"
   ]
  },
  {
   "cell_type": "code",
   "execution_count": 3,
   "metadata": {},
   "outputs": [],
   "source": [
    "def train():\n",
    "    network = DeepConvNet()\n",
    "    trainer = Trainer(network, x_train, t_train, x_test, t_test, optimizer='Adam', evaluate_sample_num_per_epoch=200, verbose=False)\n",
    "    trainer.train()\n",
    "\n",
    "    network.save_params(\"deep_convnet_params.pkl\")\n",
    "    print(\"Saved Network Parameters!\")"
   ]
  },
  {
   "cell_type": "code",
   "execution_count": 4,
   "metadata": {},
   "outputs": [
    {
     "output_type": "stream",
     "name": "stdout",
     "text": "Saved Network Parameters!\n"
    }
   ],
   "source": [
    "train()"
   ]
  }
 ],
 "metadata": {
  "language_info": {
   "codemirror_mode": {
    "name": "ipython",
    "version": 3
   },
   "file_extension": ".py",
   "mimetype": "text/x-python",
   "name": "python",
   "nbconvert_exporter": "python",
   "pygments_lexer": "ipython3",
   "version": "3.7.6-final"
  },
  "orig_nbformat": 2,
  "kernelspec": {
   "name": "python3",
   "display_name": "Python 3"
  }
 },
 "nbformat": 4,
 "nbformat_minor": 2
}