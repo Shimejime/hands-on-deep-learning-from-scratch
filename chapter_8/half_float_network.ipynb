{
 "cells": [
  {
   "cell_type": "code",
   "execution_count": 1,
   "metadata": {},
   "outputs": [],
   "source": [
    "import os\n",
    "import sys\n",
    "import time\n",
    "sys.path.append(os.pardir)\n",
    "import numpy as np\n",
    "import matplotlib.pyplot as plt\n",
    "%run deep_convnet.ipynb\n",
    "# from deep_convnet import DeepConvNet\n",
    "from dataset.mnist import load_mnist"
   ]
  },
  {
   "cell_type": "code",
   "execution_count": 2,
   "metadata": {},
   "outputs": [],
   "source": [
    "(x_train, t_train), (x_test, t_test) = load_mnist(flatten=False)\n",
    "network = DeepConvNet()\n",
    "network.load_params(\"deep_convnet_params.pkl\")"
   ]
  },
  {
   "cell_type": "code",
   "execution_count": 3,
   "metadata": {},
   "outputs": [],
   "source": [
    "sampled = 2000\n",
    "x_test = x_test[:sampled]\n",
    "t_test = t_test[:sampled]"
   ]
  },
  {
   "cell_type": "code",
   "execution_count": 4,
   "metadata": {},
   "outputs": [],
   "source": [
    "def accuracy():\n",
    "    acc = 0.0\n",
    "    batch_size = 100\n",
    "    for i in range(int(x_test.shape[0] / batch_size)):\n",
    "        tx = x_test[i * batch_size:(i + 1) * batch_size]\n",
    "        tt = t_test[i * batch_size:(i + 1) * batch_size]\n",
    "        y = network.predict(tx, train_flg=False)\n",
    "        y = np.argmax(y, axis=1)\n",
    "        acc += np.sum(y == tt)\n",
    "\n",
    "    acc = acc / x_test.shape[0]\n",
    "    print(\"test accuracy:\" + str(acc))"
   ]
  },
  {
   "cell_type": "code",
   "execution_count": 5,
   "metadata": {},
   "outputs": [
    {
     "output_type": "stream",
     "name": "stdout",
     "text": "caluculate accuracy (float64) ... \ntest accuracy:0.955\n実行速度： 11.235002040863037\ncaluculate accuracy (float16) ... \ntest accuracy:0.955\n実行速度： 11.195002317428589\n"
    }
   ],
   "source": [
    "start = time.time()\n",
    "print(\"caluculate accuracy (float64) ... \")\n",
    "accuracy()\n",
    "print(\"実行速度：\", time.time() - start)\n",
    "\n",
    "x_test = x_test.astype(np.float16)\n",
    "for param in network.params.values():\n",
    "    param[...] = param.astype(np.float16)\n",
    "\n",
    "start = time.time()\n",
    "print(\"caluculate accuracy (float16) ... \")\n",
    "accuracy()\n",
    "print(\"実行速度：\", time.time() - start)"
   ]
  }
 ],
 "metadata": {
  "language_info": {
   "codemirror_mode": {
    "name": "ipython",
    "version": 3
   },
   "file_extension": ".py",
   "mimetype": "text/x-python",
   "name": "python",
   "nbconvert_exporter": "python",
   "pygments_lexer": "ipython3",
   "version": "3.7.6-final"
  },
  "orig_nbformat": 2,
  "kernelspec": {
   "name": "python3",
   "display_name": "Python 3"
  }
 },
 "nbformat": 4,
 "nbformat_minor": 2
}