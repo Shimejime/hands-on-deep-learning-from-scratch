{
 "cells": [
  {
   "cell_type": "code",
   "execution_count": 1,
   "metadata": {},
   "outputs": [],
   "source": [
    "import numpy as np\n",
    "import cupy as cp"
   ]
  },
  {
   "cell_type": "code",
   "execution_count": 2,
   "metadata": {},
   "outputs": [],
   "source": [
    "def get_w_np(x, t):\n",
    "    xx = np.dot(x.T, x)\n",
    "    xx_inv = np.linalg.inv(xx)\n",
    "    xt = np.dot(x.T, t)\n",
    "    w = np.dot(xx_inv, xt)\n",
    "    return w"
   ]
  },
  {
   "cell_type": "code",
   "execution_count": 3,
   "metadata": {
    "tags": []
   },
   "outputs": [
    {
     "output_type": "stream",
     "name": "stdout",
     "text": "[[-0.70975636]\n [ 0.55478865]\n [-0.89382007]\n [ 0.88947015]\n [ 0.19210896]\n [-0.93472751]\n [ 0.79495975]\n [-2.29963564]\n [ 2.20434969]\n [ 0.80323226]]\n"
    }
   ],
   "source": [
    "# 一番小さいサイズの行列の準備\n",
    "N = 10\n",
    "\n",
    "x = np.random.rand(N, N)\n",
    "t = np.random.rand(N, 1)\n",
    "w = get_w_np(x, t)\n",
    "\n",
    "# 求めた w を表示\n",
    "print(w)"
   ]
  },
  {
   "cell_type": "code",
   "execution_count": 4,
   "metadata": {},
   "outputs": [],
   "source": [
    "import time"
   ]
  },
  {
   "cell_type": "code",
   "execution_count": 5,
   "metadata": {
    "tags": []
   },
   "outputs": [
    {
     "output_type": "stream",
     "name": "stdout",
     "text": "0.00000 sec\n"
    }
   ],
   "source": [
    "time_start = time.time()\n",
    "\n",
    "# - - - 処理 - - -\n",
    "w = get_w_np(x, t)\n",
    "# - - - - - - - - -\n",
    "\n",
    "time_end = time.time()\n",
    "\n",
    "elapsed_time = time_end - time_start  # 経過時間\n",
    "\n",
    "print('{:.5f} sec'.format(elapsed_time))"
   ]
  },
  {
   "cell_type": "code",
   "execution_count": 6,
   "metadata": {
    "tags": []
   },
   "outputs": [
    {
     "output_type": "stream",
     "name": "stdout",
     "text": "N=   10: 0.00000 sec\nN=  100: 0.01300 sec\nN= 1000: 0.06000 sec\nN=10000:26.81429 sec\n"
    }
   ],
   "source": [
    "times_cpu = []  # CPUの計算時間保存用\n",
    "\n",
    "for N in [10, 100, 1000, 10000]:\n",
    "    np.random.seed(0)\n",
    "    x = np.random.rand(N, N)\n",
    "    t = np.random.rand(N, 1)\n",
    "\n",
    "    time_start = time.time()\n",
    "\n",
    "    # - - - 処理 - - -\n",
    "    w = get_w_np(x, t)\n",
    "    # - - - - - - - - -\n",
    "\n",
    "    time_end = time.time()\n",
    "\n",
    "    elapsed_time = time_end - time_start  # 経過時間\n",
    "\n",
    "    print('N={:>5}:{:>8.5f} sec'.format(N, elapsed_time))\n",
    "\n",
    "    times_cpu.append(elapsed_time)"
   ]
  },
  {
   "cell_type": "code",
   "execution_count": 7,
   "metadata": {},
   "outputs": [],
   "source": [
    "def get_w_cp(x, t):\n",
    "    xx = cp.dot(x.T, x)\n",
    "    xx_inv = cp.linalg.inv(xx)\n",
    "    xt = cp.dot(x.T, t)\n",
    "    w = cp.dot(xx_inv, xt)\n",
    "    return w"
   ]
  },
  {
   "cell_type": "code",
   "execution_count": 8,
   "metadata": {},
   "outputs": [],
   "source": [
    "# NumPy を用いた乱数生成\n",
    "N = 10\n",
    "x_np = np.random.rand(N, N)\n",
    "t_np = np.random.rand(N, 1)"
   ]
  },
  {
   "cell_type": "code",
   "execution_count": 9,
   "metadata": {},
   "outputs": [],
   "source": [
    "# NumPy の ndarray から CuPy の ndarray へ変換\n",
    "x_cp = cp.asarray(x_np)\n",
    "t_cp = cp.asarray(t_np)"
   ]
  },
  {
   "cell_type": "code",
   "execution_count": 10,
   "metadata": {},
   "outputs": [],
   "source": [
    "# NumPy\n",
    "w_np = get_w_np(x_np, t_np)\n",
    "\n",
    "# CuPy\n",
    "w_cp = get_w_cp(x_cp, t_cp)"
   ]
  },
  {
   "cell_type": "code",
   "execution_count": 11,
   "metadata": {
    "tags": []
   },
   "outputs": [
    {
     "output_type": "stream",
     "name": "stdout",
     "text": "NumPy:\n [[ 3.10913241]\n [-4.32028319]\n [ 1.09894125]\n [ 1.63321226]\n [ 1.25977854]\n [-0.89789306]\n [-0.87023945]\n [ 1.09654016]\n [ 1.19753311]\n [-1.3647516 ]]\n\nCuPy:\n [[ 3.10913241]\n [-4.32028319]\n [ 1.09894125]\n [ 1.63321226]\n [ 1.25977854]\n [-0.89789306]\n [-0.87023945]\n [ 1.09654016]\n [ 1.19753311]\n [-1.3647516 ]]\n"
    }
   ],
   "source": [
    "print('NumPy:\\n', w_np)\n",
    "print('\\nCuPy:\\n', w_cp)"
   ]
  },
  {
   "cell_type": "code",
   "execution_count": 12,
   "metadata": {
    "tags": []
   },
   "outputs": [
    {
     "output_type": "stream",
     "name": "stdout",
     "text": "N=   10: 0.00099 sec\nN=  100: 0.00200 sec\nN= 1000: 0.05400 sec\nN=10000:22.26084 sec\n"
    }
   ],
   "source": [
    "times_gpu = []  # GPUの計算時間保存用\n",
    "\n",
    "for N in [10, 100, 1000, 10000]:\n",
    "    cp.random.seed(0)\n",
    "    x = cp.random.rand(N, N)\n",
    "    t = cp.random.rand(N, 1)\n",
    "\n",
    "    # GPU 上での処理が終わるのを待機\n",
    "    cp.cuda.Stream.null.synchronize()\n",
    "\n",
    "    time_start = time.time()\n",
    "\n",
    "    # - - - 処理 - - -\n",
    "    w = get_w_cp(x, t)\n",
    "    # - - - - - - - - -\n",
    "\n",
    "    # GPU 上での処理が終わるのを待機\n",
    "    cp.cuda.Stream.null.synchronize()\n",
    "\n",
    "    time_end = time.time()\n",
    "\n",
    "    elapsed_time = time_end - time_start  # 経過時間\n",
    "\n",
    "    print('N={:>5}:{:>8.5f} sec'.format(N, elapsed_time))\n",
    "\n",
    "    times_gpu.append(elapsed_time)"
   ]
  },
  {
   "cell_type": "code",
   "execution_count": 14,
   "metadata": {
    "tags": []
   },
   "outputs": [
    {
     "output_type": "stream",
     "name": "stdout",
     "text": "N    NumPyでの実行時間 (sec)    CuPy での実行時間 (sec)  高速化倍率\n-----  -------------------------  -------------------------  ------------\n   10                  0                        0.000993729  0.00 x\n  100                  0.0129998                0.002002     6.49 x\n 1000                  0.0600016                0.0539973    1.11 x\n10000                 26.8143                  22.2608       1.20 x\n"
    }
   ],
   "source": [
    "import tabulate\n",
    "\n",
    "# N ごとの実行時間の差\n",
    "N = [10, 100, 1000, 10000]\n",
    "times_cpu = np.asarray(times_cpu)\n",
    "times_gpu = np.asarray(times_gpu)\n",
    "ratio = ['{:.2f} x'.format(r) for r in times_cpu / times_gpu]\n",
    "\n",
    "# tabulate を用いてテーブルを作成\n",
    "table = tabulate.tabulate(\n",
    "    zip(N, times_cpu, times_gpu, ratio),\n",
    "    headers=['N', 'NumPyでの実行時間 (sec)', 'CuPy での実行時間 (sec)', '高速化倍率'])\n",
    "\n",
    "print(table)"
   ]
  },
  {
   "cell_type": "code",
   "execution_count": null,
   "metadata": {},
   "outputs": [],
   "source": []
  }
 ],
 "metadata": {
  "language_info": {
   "codemirror_mode": {
    "name": "ipython",
    "version": 3
   },
   "file_extension": ".py",
   "mimetype": "text/x-python",
   "name": "python",
   "nbconvert_exporter": "python",
   "pygments_lexer": "ipython3",
   "version": "3.7.6-final"
  },
  "orig_nbformat": 2,
  "kernelspec": {
   "name": "python_defaultSpec_1594174270244",
   "display_name": "Python 3.7.6 64-bit ('cupy_env': conda)"
  }
 },
 "nbformat": 4,
 "nbformat_minor": 2
}