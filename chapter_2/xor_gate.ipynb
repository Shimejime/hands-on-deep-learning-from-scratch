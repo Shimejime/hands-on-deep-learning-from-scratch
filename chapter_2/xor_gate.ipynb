{
 "cells": [
  {
   "cell_type": "code",
   "execution_count": 1,
   "metadata": {},
   "outputs": [],
   "source": [
    "import numpy as np"
   ]
  },
  {
   "cell_type": "code",
   "execution_count": 2,
   "metadata": {},
   "outputs": [],
   "source": [
    "class Perceptron():\n",
    "    def __init__(self, w: list, b: int):\n",
    "        self.w = np.array(w)\n",
    "        self.b = b\n",
    "\n",
    "    def __call__(self, x: list) -> int:\n",
    "        x = np.array(x)\n",
    "        return int(np.sum(x * self.w) + self.b > 0)"
   ]
  },
  {
   "cell_type": "code",
   "execution_count": 4,
   "metadata": {},
   "outputs": [],
   "source": [
    "x_list = [[0, 0], [1, 0], [0, 1], [1, 1]]"
   ]
  },
  {
   "cell_type": "code",
   "execution_count": 6,
   "metadata": {},
   "outputs": [],
   "source": [
    "def XOR(x: list) -> int:\n",
    "    p_nand = Perceptron([-0.6, -0.5], 1)\n",
    "    p_or = Perceptron([0.2, 0.4], 0)\n",
    "    p_and = Perceptron([0.6, 0.5], -1)\n",
    "\n",
    "    s1 = p_nand(x)\n",
    "    s2 = p_or(x)\n",
    "    y = p_and([s1, s2])\n",
    "\n",
    "    return y"
   ]
  },
  {
   "cell_type": "code",
   "execution_count": 7,
   "metadata": {},
   "outputs": [
    {
     "output_type": "stream",
     "name": "stdout",
     "text": "[0, 0]: 0\n[1, 0]: 1\n[0, 1]: 1\n[1, 1]: 0\n"
    }
   ],
   "source": [
    "for x in x_list:\n",
    "    print(\"{}: {}\".format(x, XOR(x)))"
   ]
  }
 ],
 "metadata": {
  "language_info": {
   "codemirror_mode": {
    "name": "ipython",
    "version": 3
   },
   "file_extension": ".py",
   "mimetype": "text/x-python",
   "name": "python",
   "nbconvert_exporter": "python",
   "pygments_lexer": "ipython3",
   "version": "3.7.7-final"
  },
  "orig_nbformat": 2,
  "kernelspec": {
   "name": "python37664bitdlenvconda4ed1964df216439a8417d0a4f16ce08f",
   "display_name": "Python 3.7.6 64-bit ('dl_env': conda)"
  }
 },
 "nbformat": 4,
 "nbformat_minor": 2
}