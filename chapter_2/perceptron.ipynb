{
 "cells": [
  {
   "cell_type": "code",
   "execution_count": 1,
   "metadata": {},
   "outputs": [],
   "source": [
    "import numpy as np"
   ]
  },
  {
   "cell_type": "code",
   "execution_count": 5,
   "metadata": {},
   "outputs": [],
   "source": [
    "class Perceptron():\n",
    "    def __init__(self, w: list, b: int):\n",
    "        self.w = np.array(w)\n",
    "        self.b = b\n",
    "\n",
    "    def __call__(self, x: list) -> int:\n",
    "        x = np.array(x)\n",
    "        return int(np.sum(np.dot(x, self.w)) + self.b > 0)"
   ]
  },
  {
   "cell_type": "code",
   "execution_count": 6,
   "metadata": {},
   "outputs": [],
   "source": [
    "x_list = [[0, 0], [1, 0], [0, 1], [1, 1]]"
   ]
  },
  {
   "cell_type": "code",
   "execution_count": 7,
   "metadata": {},
   "outputs": [
    {
     "name": "stdout",
     "output_type": "stream",
     "text": [
      "[0, 0]: 0\n",
      "[1, 0]: 0\n",
      "[0, 1]: 0\n",
      "[1, 1]: 1\n"
     ]
    }
   ],
   "source": [
    "test_and = Perceptron([0.6, 0.5], -1)\n",
    "for x in x_list:\n",
    "    print(\"{}: {}\".format(x, test_and(x)))"
   ]
  },
  {
   "cell_type": "code",
   "execution_count": 8,
   "metadata": {},
   "outputs": [
    {
     "name": "stdout",
     "output_type": "stream",
     "text": [
      "[0, 0]: 0\n",
      "[1, 0]: 1\n",
      "[0, 1]: 1\n",
      "[1, 1]: 1\n"
     ]
    }
   ],
   "source": [
    "test_or = Perceptron([0.2, 0.4], 0)\n",
    "for x in x_list:\n",
    "    print(\"{}: {}\".format(x, test_or(x)))"
   ]
  },
  {
   "cell_type": "code",
   "execution_count": 9,
   "metadata": {},
   "outputs": [
    {
     "name": "stdout",
     "output_type": "stream",
     "text": [
      "[0, 0]: 1\n",
      "[1, 0]: 1\n",
      "[0, 1]: 1\n",
      "[1, 1]: 0\n"
     ]
    }
   ],
   "source": [
    "test_nand = Perceptron([-0.6, -0.5], 1)\n",
    "for x in x_list:\n",
    "    print(\"{}: {}\".format(x, test_nand(x)))"
   ]
  },
  {
   "cell_type": "code",
   "execution_count": null,
   "metadata": {},
   "outputs": [],
   "source": []
  }
 ],
 "metadata": {
  "kernelspec": {
   "display_name": "Python 3.7.6 64-bit ('dl_env': conda)",
   "language": "python",
   "name": "python37664bitdlenvconda4ed1964df216439a8417d0a4f16ce08f"
  },
  "language_info": {
   "codemirror_mode": {
    "name": "ipython",
    "version": 3
   },
   "file_extension": ".py",
   "mimetype": "text/x-python",
   "name": "python",
   "nbconvert_exporter": "python",
   "pygments_lexer": "ipython3",
   "version": "3.7.7"
  }
 },
 "nbformat": 4,
 "nbformat_minor": 4
}
