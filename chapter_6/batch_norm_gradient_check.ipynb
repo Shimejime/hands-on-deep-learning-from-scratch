{
 "cells": [
  {
   "cell_type": "code",
   "execution_count": 4,
   "metadata": {},
   "outputs": [],
   "source": [
    "# coding: utf-8\n",
    "import sys, os\n",
    "sys.path.append(os.pardir)  # 親ディレクトリのファイルをインポートするための設定\n",
    "import numpy as np\n",
    "from dataset.mnist import load_mnist\n",
    "from common.multi_layer_net_extend import MultiLayerNetExtend"
   ]
  },
  {
   "cell_type": "code",
   "execution_count": 2,
   "metadata": {},
   "outputs": [
    {
     "output_type": "stream",
     "name": "stdout",
     "text": "Downloading train-images-idx3-ubyte.gz ... \nDone\nDownloading train-labels-idx1-ubyte.gz ... \nDone\nDownloading t10k-images-idx3-ubyte.gz ... \nDone\nDownloading t10k-labels-idx1-ubyte.gz ... \nDone\nConverting train-images-idx3-ubyte.gz to NumPy Array ...\nDone\nConverting train-labels-idx1-ubyte.gz to NumPy Array ...\nDone\nConverting t10k-images-idx3-ubyte.gz to NumPy Array ...\nDone\nConverting t10k-labels-idx1-ubyte.gz to NumPy Array ...\nDone\nCreating pickle file ...\nDone!\nW1:0.0\nb1:0.0\ngamma1:0.0\nbeta1:0.0\nW2:0.0\nb2:0.0\ngamma2:0.0\nbeta2:0.05900912777785372\nW3:0.0\nb3:1.7990402263745597e-07\n"
    }
   ],
   "source": [
    "# データの読み込み\n",
    "(x_train, t_train), (x_test, t_test) = load_mnist(normalize=True, one_hot_label=True)\n",
    "\n",
    "network = MultiLayerNetExtend(input_size=784, hidden_size_list=[100, 100], output_size=10,\n",
    "                              use_batchnorm=True)\n",
    "\n",
    "x_batch = x_train[:1]\n",
    "t_batch = t_train[:1]\n",
    "\n",
    "grad_backprop = network.gradient(x_batch, t_batch)\n",
    "grad_numerical = network.numerical_gradient(x_batch, t_batch)\n",
    "\n",
    "\n",
    "for key in grad_numerical.keys():\n",
    "    diff = np.average( np.abs(grad_backprop[key] - grad_numerical[key]) )\n",
    "    print(key + \":\" + str(diff))"
   ]
  },
  {
   "cell_type": "code",
   "execution_count": null,
   "metadata": {},
   "outputs": [],
   "source": []
  }
 ],
 "metadata": {
  "language_info": {
   "codemirror_mode": {
    "name": "ipython",
    "version": 3
   },
   "file_extension": ".py",
   "mimetype": "text/x-python",
   "name": "python",
   "nbconvert_exporter": "python",
   "pygments_lexer": "ipython3",
   "version": "3.7.6-final"
  },
  "orig_nbformat": 2,
  "kernelspec": {
   "name": "python3",
   "display_name": "Python 3"
  }
 },
 "nbformat": 4,
 "nbformat_minor": 2
}