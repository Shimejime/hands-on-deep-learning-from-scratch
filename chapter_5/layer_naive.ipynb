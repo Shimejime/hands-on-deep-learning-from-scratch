{
 "cells": [
  {
   "cell_type": "code",
   "execution_count": 1,
   "metadata": {},
   "outputs": [],
   "source": [
    "class MulLayer:\n",
    "    def __init__(self):\n",
    "        self.x = None\n",
    "        self.y = None\n",
    "\n",
    "    def forward(self, x, y):\n",
    "        self.x = x\n",
    "        self.y = y\n",
    "        out = x * y\n",
    "\n",
    "        return out\n",
    "\n",
    "    def backward(self, dout):\n",
    "        dx = dout * self.y\n",
    "        dy = dout * self.x\n",
    "\n",
    "        return dx, dy"
   ]
  },
  {
   "cell_type": "code",
   "execution_count": 2,
   "metadata": {},
   "outputs": [],
   "source": [
    "class AddLayer:\n",
    "    def __init__(self):\n",
    "        pass\n",
    "\n",
    "    def forward(self, x, y):\n",
    "        out = x + y\n",
    "        return out\n",
    "\n",
    "    def backward(self, dout):\n",
    "        return dout, dout"
   ]
  },
  {
   "cell_type": "code",
   "execution_count": 3,
   "metadata": {},
   "outputs": [],
   "source": [
    "apple = 100\n",
    "apple_num = 2\n",
    "orange = 150\n",
    "orange_num = 3\n",
    "tax = 1.1\n",
    "\n",
    "mul_apple_layer = MulLayer()\n",
    "mul_orange_layer = MulLayer()\n",
    "add_apple_orange_layer = AddLayer()\n",
    "mul_tax_layer = MulLayer()"
   ]
  },
  {
   "cell_type": "code",
   "execution_count": 4,
   "metadata": {},
   "outputs": [],
   "source": [
    "def buy_apple():\n",
    "    apple_price = mul_apple_layer.forward(apple, apple_num)\n",
    "    price = mul_tax_layer.forward(apple_price, tax)\n",
    "\n",
    "    dprice = 1\n",
    "    dapple_price, dtax = mul_tax_layer.backward(dprice)\n",
    "    dapple, dapple_num = mul_apple_layer.backward(dapple_price)\n",
    "\n",
    "    print(\"price: \", int(price))\n",
    "    print(\"dApple: \", dapple)\n",
    "    print(\"dApple_num \", int(dapple_num))\n",
    "    print(\"dTax: \", dtax)"
   ]
  },
  {
   "cell_type": "code",
   "execution_count": 5,
   "metadata": {},
   "outputs": [],
   "source": [
    "def buy_apple_orange():\n",
    "    # forward\n",
    "    apple_price = mul_apple_layer.forward(apple, apple_num)\n",
    "    orange_price = mul_orange_layer.forward(orange, orange_num)\n",
    "    all_price = add_apple_orange_layer.forward(apple_price, orange_price)\n",
    "    price = mul_tax_layer.forward(all_price, tax)\n",
    "\n",
    "    # backward\n",
    "    dprice = 1\n",
    "    dall_price, dtax = mul_tax_layer.backward(dprice)\n",
    "    dapple_price, dorange_price = add_apple_orange_layer.backward(dall_price)\n",
    "    dorange, dorange_num = mul_orange_layer.backward(dorange_price)\n",
    "    dapple, dapple_num = mul_apple_layer.backward(dapple_price)\n",
    "\n",
    "    print(\"price: \", int(price))\n",
    "    print(\"dApple: \", dapple)\n",
    "    print(\"dApple_num: \", int(dapple_num))\n",
    "    print(\"dOrange: \", dorange)\n",
    "    print(\"dOrange_num: \", int(dorange_num))\n",
    "    print(\"dTax: \", dtax)"
   ]
  },
  {
   "cell_type": "code",
   "execution_count": 6,
   "metadata": {},
   "outputs": [
    {
     "output_type": "stream",
     "name": "stdout",
     "text": "buy_apple():\nprice:  220\ndApple:  2.2\ndApple_num  110\ndTax:  200\n\nbuy_apple_orange():\nprice:  715\ndApple:  2.2\ndApple_num:  110\ndOrange:  3.3000000000000003\ndOrange_num:  165\ndTax:  650\n"
    }
   ],
   "source": [
    "def main():\n",
    "    print(\"buy_apple():\")\n",
    "    buy_apple()\n",
    "    print(\"\\nbuy_apple_orange():\")\n",
    "    buy_apple_orange()\n",
    "\n",
    "if __name__ == '__main__':\n",
    "    main()"
   ]
  }
 ],
 "metadata": {
  "language_info": {
   "codemirror_mode": {
    "name": "ipython",
    "version": 3
   },
   "file_extension": ".py",
   "mimetype": "text/x-python",
   "name": "python",
   "nbconvert_exporter": "python",
   "pygments_lexer": "ipython3",
   "version": "3.7.6-final"
  },
  "orig_nbformat": 2,
  "kernelspec": {
   "name": "python3",
   "display_name": "Python 3"
  }
 },
 "nbformat": 4,
 "nbformat_minor": 2
}