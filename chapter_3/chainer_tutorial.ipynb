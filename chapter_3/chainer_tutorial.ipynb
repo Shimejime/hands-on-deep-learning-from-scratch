{
 "cells": [
  {
   "cell_type": "code",
   "execution_count": 1,
   "metadata": {},
   "outputs": [],
   "source": [
    "import numpy as np"
   ]
  },
  {
   "cell_type": "code",
   "execution_count": 2,
   "metadata": {},
   "outputs": [],
   "source": [
    "def relu(x):\n",
    "    return np.maximum(0, x)"
   ]
  },
  {
   "cell_type": "code",
   "execution_count": 3,
   "metadata": {},
   "outputs": [],
   "source": [
    "class TwoLayerNet:\n",
    "    def __init__(self):\n",
    "        self.w10 = np.array([[3, 1, 2], [-2, -3, -1]])\n",
    "        self.w21 = np.array([3, 2])\n",
    "        self.b10 = np.array([0, 0])\n",
    "        self.b21 = np.array([0])\n",
    "    \n",
    "    def forward(self, x):\n",
    "        u1 = np.dot(self.w10, x) + self.b10\n",
    "        h1 = relu(u1)\n",
    "        u2 = np.dot(self.w21, h1) + self.b21\n",
    "        y = relu(u2)\n",
    "        return y"
   ]
  },
  {
   "cell_type": "code",
   "execution_count": 4,
   "metadata": {},
   "outputs": [
    {
     "name": "stdout",
     "output_type": "stream",
     "text": [
      "[33]\n"
     ]
    }
   ],
   "source": [
    "network = TwoLayerNet()\n",
    "x = np.array([2, 3, 1])\n",
    "print(network.forward(x))"
   ]
  }
 ],
 "metadata": {
  "kernelspec": {
   "display_name": "Python 3.7.6 64-bit ('dl_env': conda)",
   "language": "python",
   "name": "python37664bitdlenvconda4ed1964df216439a8417d0a4f16ce08f"
  },
  "language_info": {
   "codemirror_mode": {
    "name": "ipython",
    "version": 3
   },
   "file_extension": ".py",
   "mimetype": "text/x-python",
   "name": "python",
   "nbconvert_exporter": "python",
   "pygments_lexer": "ipython3",
   "version": "3.7.7"
  }
 },
 "nbformat": 4,
 "nbformat_minor": 4
}
